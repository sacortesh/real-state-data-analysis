{
 "cells": [
  {
   "cell_type": "code",
   "execution_count": 1,
   "metadata": {},
   "outputs": [],
   "source": [
    "import pandas as pd\n",
    "import matplotlib.pyplot as plt\n",
    "%matplotlib inline\n",
    "\n",
    "from arcgis.gis import GIS\n",
    "from arcgis.features import GeoAccessor, GeoSeriesAccessor"
   ]
  },
  {
   "cell_type": "code",
   "execution_count": 2,
   "metadata": {},
   "outputs": [],
   "source": [
    "from arcgis.geocoding import geocode"
   ]
  },
  {
   "cell_type": "code",
   "execution_count": 4,
   "metadata": {},
   "outputs": [],
   "source": [
    "gis = GIS()"
   ]
  },
  {
   "cell_type": "code",
   "execution_count": 5,
   "metadata": {},
   "outputs": [],
   "source": [
    "csv_path = \"file1_2018-09-20-14-42-11_4k.csv\""
   ]
  },
  {
   "cell_type": "code",
   "execution_count": 6,
   "metadata": {},
   "outputs": [
    {
     "data": {
      "text/html": [
       "<div>\n",
       "<style scoped>\n",
       "    .dataframe tbody tr th:only-of-type {\n",
       "        vertical-align: middle;\n",
       "    }\n",
       "\n",
       "    .dataframe tbody tr th {\n",
       "        vertical-align: top;\n",
       "    }\n",
       "\n",
       "    .dataframe thead th {\n",
       "        text-align: right;\n",
       "    }\n",
       "</style>\n",
       "<table border=\"1\" class=\"dataframe\">\n",
       "  <thead>\n",
       "    <tr style=\"text-align: right;\">\n",
       "      <th></th>\n",
       "      <th>SALE TYPE</th>\n",
       "      <th>SOLD DATE</th>\n",
       "      <th>PROPERTY TYPE</th>\n",
       "      <th>CITY</th>\n",
       "      <th>STATE</th>\n",
       "      <th>ZIP</th>\n",
       "      <th>PRICE</th>\n",
       "      <th>BEDS</th>\n",
       "      <th>BATHS</th>\n",
       "      <th>LOCATION</th>\n",
       "      <th>...</th>\n",
       "      <th>HOA/MONTH</th>\n",
       "      <th>STATUS</th>\n",
       "      <th>NEXT OPEN HOUSE START TIME</th>\n",
       "      <th>NEXT OPEN HOUSE END TIME</th>\n",
       "      <th>SOURCE</th>\n",
       "      <th>MLS#</th>\n",
       "      <th>FAVORITE</th>\n",
       "      <th>INTERESTED</th>\n",
       "      <th>LATITUDE</th>\n",
       "      <th>LONGITUDE</th>\n",
       "    </tr>\n",
       "  </thead>\n",
       "  <tbody>\n",
       "    <tr>\n",
       "      <th>0</th>\n",
       "      <td>MLS Listing</td>\n",
       "      <td>NaN</td>\n",
       "      <td>Single Family Residential</td>\n",
       "      <td>Portland</td>\n",
       "      <td>OR</td>\n",
       "      <td>97211.0</td>\n",
       "      <td>27500.0</td>\n",
       "      <td>0.0</td>\n",
       "      <td>1.0</td>\n",
       "      <td>RODGER'S MARINA</td>\n",
       "      <td>...</td>\n",
       "      <td>NaN</td>\n",
       "      <td>Active</td>\n",
       "      <td>NaN</td>\n",
       "      <td>NaN</td>\n",
       "      <td>RMLS</td>\n",
       "      <td>18567126</td>\n",
       "      <td>N</td>\n",
       "      <td>Y</td>\n",
       "      <td>45.604756</td>\n",
       "      <td>-122.624335</td>\n",
       "    </tr>\n",
       "    <tr>\n",
       "      <th>1</th>\n",
       "      <td>MLS Listing</td>\n",
       "      <td>NaN</td>\n",
       "      <td>Vacant Land</td>\n",
       "      <td>Portland</td>\n",
       "      <td>OR</td>\n",
       "      <td>97210.0</td>\n",
       "      <td>30000.0</td>\n",
       "      <td>NaN</td>\n",
       "      <td>NaN</td>\n",
       "      <td>Portland West, Raleigh Hills</td>\n",
       "      <td>...</td>\n",
       "      <td>NaN</td>\n",
       "      <td>Active</td>\n",
       "      <td>NaN</td>\n",
       "      <td>NaN</td>\n",
       "      <td>RMLS</td>\n",
       "      <td>18118897</td>\n",
       "      <td>N</td>\n",
       "      <td>Y</td>\n",
       "      <td>45.522837</td>\n",
       "      <td>-122.733173</td>\n",
       "    </tr>\n",
       "    <tr>\n",
       "      <th>2</th>\n",
       "      <td>MLS Listing</td>\n",
       "      <td>NaN</td>\n",
       "      <td>Vacant Land</td>\n",
       "      <td>Portland</td>\n",
       "      <td>OR</td>\n",
       "      <td>97220.0</td>\n",
       "      <td>34777.0</td>\n",
       "      <td>NaN</td>\n",
       "      <td>NaN</td>\n",
       "      <td>Portland Northeast</td>\n",
       "      <td>...</td>\n",
       "      <td>NaN</td>\n",
       "      <td>Active</td>\n",
       "      <td>NaN</td>\n",
       "      <td>NaN</td>\n",
       "      <td>RMLS</td>\n",
       "      <td>18454531</td>\n",
       "      <td>N</td>\n",
       "      <td>Y</td>\n",
       "      <td>45.554321</td>\n",
       "      <td>-122.553849</td>\n",
       "    </tr>\n",
       "  </tbody>\n",
       "</table>\n",
       "<p>3 rows × 25 columns</p>\n",
       "</div>"
      ],
      "text/plain": [
       "     SALE TYPE  SOLD DATE              PROPERTY TYPE      CITY STATE      ZIP  \\\n",
       "0  MLS Listing        NaN  Single Family Residential  Portland    OR  97211.0   \n",
       "1  MLS Listing        NaN                Vacant Land  Portland    OR  97210.0   \n",
       "2  MLS Listing        NaN                Vacant Land  Portland    OR  97220.0   \n",
       "\n",
       "     PRICE  BEDS  BATHS                      LOCATION  ...  HOA/MONTH  STATUS  \\\n",
       "0  27500.0   0.0    1.0               RODGER'S MARINA  ...        NaN  Active   \n",
       "1  30000.0   NaN    NaN  Portland West, Raleigh Hills  ...        NaN  Active   \n",
       "2  34777.0   NaN    NaN            Portland Northeast  ...        NaN  Active   \n",
       "\n",
       "   NEXT OPEN HOUSE START TIME  NEXT OPEN HOUSE END TIME  SOURCE      MLS#  \\\n",
       "0                         NaN                       NaN    RMLS  18567126   \n",
       "1                         NaN                       NaN    RMLS  18118897   \n",
       "2                         NaN                       NaN    RMLS  18454531   \n",
       "\n",
       "  FAVORITE INTERESTED   LATITUDE   LONGITUDE  \n",
       "0        N          Y  45.604756 -122.624335  \n",
       "1        N          Y  45.522837 -122.733173  \n",
       "2        N          Y  45.554321 -122.553849  \n",
       "\n",
       "[3 rows x 25 columns]"
      ]
     },
     "execution_count": 6,
     "metadata": {},
     "output_type": "execute_result"
    }
   ],
   "source": [
    "prop_df = pd.read_csv(csv_path)\n",
    "prop_df.head(3)"
   ]
  },
  {
   "cell_type": "code",
   "execution_count": 24,
   "metadata": {},
   "outputs": [],
   "source": [
    "prop_df.drop(columns=['SOLD DATE'],inplace=True)\n",
    "prop_df.drop(columns=['NEXT OPEN HOUSE START TIME'],inplace=True)\n",
    "prop_df.drop(columns=['NEXT OPEN HOUSE END TIME'],inplace=True)\n",
    "prop_df.drop(columns=['FAVORITE'],inplace=True)\n",
    "prop_df.drop(columns=['INTERESTED'],inplace=True)\n"
   ]
  },
  {
   "cell_type": "code",
   "execution_count": 25,
   "metadata": {},
   "outputs": [
    {
     "data": {
      "text/html": [
       "<div>\n",
       "<style scoped>\n",
       "    .dataframe tbody tr th:only-of-type {\n",
       "        vertical-align: middle;\n",
       "    }\n",
       "\n",
       "    .dataframe tbody tr th {\n",
       "        vertical-align: top;\n",
       "    }\n",
       "\n",
       "    .dataframe thead th {\n",
       "        text-align: right;\n",
       "    }\n",
       "</style>\n",
       "<table border=\"1\" class=\"dataframe\">\n",
       "  <thead>\n",
       "    <tr style=\"text-align: right;\">\n",
       "      <th></th>\n",
       "      <th>SALE TYPE</th>\n",
       "      <th>PROPERTY TYPE</th>\n",
       "      <th>CITY</th>\n",
       "      <th>STATE</th>\n",
       "      <th>ZIP</th>\n",
       "      <th>PRICE</th>\n",
       "      <th>BEDS</th>\n",
       "      <th>BATHS</th>\n",
       "      <th>LOCATION</th>\n",
       "      <th>SQUARE FEET</th>\n",
       "      <th>...</th>\n",
       "      <th>DAYS ON MARKET</th>\n",
       "      <th>$/SQUARE FEET</th>\n",
       "      <th>HOA/MONTH</th>\n",
       "      <th>STATUS</th>\n",
       "      <th>SOURCE</th>\n",
       "      <th>MLS#</th>\n",
       "      <th>LATITUDE</th>\n",
       "      <th>LONGITUDE</th>\n",
       "      <th>SHAPE</th>\n",
       "      <th>OBJECTID</th>\n",
       "    </tr>\n",
       "  </thead>\n",
       "  <tbody>\n",
       "    <tr>\n",
       "      <th>0</th>\n",
       "      <td>MLS Listing</td>\n",
       "      <td>Single Family Residential</td>\n",
       "      <td>Portland</td>\n",
       "      <td>OR</td>\n",
       "      <td>97211.0</td>\n",
       "      <td>27500.0</td>\n",
       "      <td>0.0</td>\n",
       "      <td>1.0</td>\n",
       "      <td>RODGER'S MARINA</td>\n",
       "      <td>350.0</td>\n",
       "      <td>...</td>\n",
       "      <td>53.0</td>\n",
       "      <td>79.0</td>\n",
       "      <td>NaN</td>\n",
       "      <td>Active</td>\n",
       "      <td>RMLS</td>\n",
       "      <td>18567126</td>\n",
       "      <td>45.604756</td>\n",
       "      <td>-122.624335</td>\n",
       "      <td>{\"x\": -122.62433473960267, \"y\": 45.60475636039...</td>\n",
       "      <td>1</td>\n",
       "    </tr>\n",
       "    <tr>\n",
       "      <th>1</th>\n",
       "      <td>MLS Listing</td>\n",
       "      <td>Vacant Land</td>\n",
       "      <td>Portland</td>\n",
       "      <td>OR</td>\n",
       "      <td>97210.0</td>\n",
       "      <td>30000.0</td>\n",
       "      <td>NaN</td>\n",
       "      <td>NaN</td>\n",
       "      <td>Portland West, Raleigh Hills</td>\n",
       "      <td>NaN</td>\n",
       "      <td>...</td>\n",
       "      <td>10.0</td>\n",
       "      <td>NaN</td>\n",
       "      <td>NaN</td>\n",
       "      <td>Active</td>\n",
       "      <td>RMLS</td>\n",
       "      <td>18118897</td>\n",
       "      <td>45.522837</td>\n",
       "      <td>-122.733173</td>\n",
       "      <td>{\"x\": -122.73317348721564, \"y\": 45.52283651278...</td>\n",
       "      <td>2</td>\n",
       "    </tr>\n",
       "    <tr>\n",
       "      <th>2</th>\n",
       "      <td>MLS Listing</td>\n",
       "      <td>Vacant Land</td>\n",
       "      <td>Portland</td>\n",
       "      <td>OR</td>\n",
       "      <td>97220.0</td>\n",
       "      <td>34777.0</td>\n",
       "      <td>NaN</td>\n",
       "      <td>NaN</td>\n",
       "      <td>Portland Northeast</td>\n",
       "      <td>NaN</td>\n",
       "      <td>...</td>\n",
       "      <td>239.0</td>\n",
       "      <td>NaN</td>\n",
       "      <td>NaN</td>\n",
       "      <td>Active</td>\n",
       "      <td>RMLS</td>\n",
       "      <td>18454531</td>\n",
       "      <td>45.554321</td>\n",
       "      <td>-122.553849</td>\n",
       "      <td>{\"x\": -122.55384907899088, \"y\": 45.55432092100...</td>\n",
       "      <td>3</td>\n",
       "    </tr>\n",
       "    <tr>\n",
       "      <th>3</th>\n",
       "      <td>MLS Listing</td>\n",
       "      <td>Mobile/Manufactured Home</td>\n",
       "      <td>Portland</td>\n",
       "      <td>OR</td>\n",
       "      <td>97206.0</td>\n",
       "      <td>35000.0</td>\n",
       "      <td>2.0</td>\n",
       "      <td>1.0</td>\n",
       "      <td>Portland Southeast</td>\n",
       "      <td>800.0</td>\n",
       "      <td>...</td>\n",
       "      <td>93.0</td>\n",
       "      <td>44.0</td>\n",
       "      <td>NaN</td>\n",
       "      <td>Active</td>\n",
       "      <td>RMLS</td>\n",
       "      <td>18331169</td>\n",
       "      <td>45.475296</td>\n",
       "      <td>-122.586139</td>\n",
       "      <td>{\"x\": -122.58613896196422, \"y\": 45.47529563803...</td>\n",
       "      <td>4</td>\n",
       "    </tr>\n",
       "    <tr>\n",
       "      <th>4</th>\n",
       "      <td>MLS Listing</td>\n",
       "      <td>Vacant Land</td>\n",
       "      <td>Portland</td>\n",
       "      <td>OR</td>\n",
       "      <td>97213.0</td>\n",
       "      <td>50000.0</td>\n",
       "      <td>NaN</td>\n",
       "      <td>NaN</td>\n",
       "      <td>Marchmont ADD &amp; RPLT</td>\n",
       "      <td>NaN</td>\n",
       "      <td>...</td>\n",
       "      <td>20.0</td>\n",
       "      <td>NaN</td>\n",
       "      <td>NaN</td>\n",
       "      <td>Active</td>\n",
       "      <td>RMLS</td>\n",
       "      <td>18388618</td>\n",
       "      <td>45.550021</td>\n",
       "      <td>-122.577701</td>\n",
       "      <td>{\"x\": -122.5777005888162, \"y\": 45.550021411183...</td>\n",
       "      <td>5</td>\n",
       "    </tr>\n",
       "  </tbody>\n",
       "</table>\n",
       "<p>5 rows × 22 columns</p>\n",
       "</div>"
      ],
      "text/plain": [
       "     SALE TYPE              PROPERTY TYPE      CITY STATE      ZIP    PRICE  \\\n",
       "0  MLS Listing  Single Family Residential  Portland    OR  97211.0  27500.0   \n",
       "1  MLS Listing                Vacant Land  Portland    OR  97210.0  30000.0   \n",
       "2  MLS Listing                Vacant Land  Portland    OR  97220.0  34777.0   \n",
       "3  MLS Listing   Mobile/Manufactured Home  Portland    OR  97206.0  35000.0   \n",
       "4  MLS Listing                Vacant Land  Portland    OR  97213.0  50000.0   \n",
       "\n",
       "   BEDS  BATHS                      LOCATION  SQUARE FEET  ...  \\\n",
       "0   0.0    1.0               RODGER'S MARINA        350.0  ...   \n",
       "1   NaN    NaN  Portland West, Raleigh Hills          NaN  ...   \n",
       "2   NaN    NaN            Portland Northeast          NaN  ...   \n",
       "3   2.0    1.0            Portland Southeast        800.0  ...   \n",
       "4   NaN    NaN          Marchmont ADD & RPLT          NaN  ...   \n",
       "\n",
       "   DAYS ON MARKET  $/SQUARE FEET  HOA/MONTH  STATUS  SOURCE      MLS#  \\\n",
       "0            53.0           79.0        NaN  Active    RMLS  18567126   \n",
       "1            10.0            NaN        NaN  Active    RMLS  18118897   \n",
       "2           239.0            NaN        NaN  Active    RMLS  18454531   \n",
       "3            93.0           44.0        NaN  Active    RMLS  18331169   \n",
       "4            20.0            NaN        NaN  Active    RMLS  18388618   \n",
       "\n",
       "    LATITUDE   LONGITUDE                                              SHAPE  \\\n",
       "0  45.604756 -122.624335  {\"x\": -122.62433473960267, \"y\": 45.60475636039...   \n",
       "1  45.522837 -122.733173  {\"x\": -122.73317348721564, \"y\": 45.52283651278...   \n",
       "2  45.554321 -122.553849  {\"x\": -122.55384907899088, \"y\": 45.55432092100...   \n",
       "3  45.475296 -122.586139  {\"x\": -122.58613896196422, \"y\": 45.47529563803...   \n",
       "4  45.550021 -122.577701  {\"x\": -122.5777005888162, \"y\": 45.550021411183...   \n",
       "\n",
       "   OBJECTID  \n",
       "0         1  \n",
       "1         2  \n",
       "2         3  \n",
       "3         4  \n",
       "4         5  \n",
       "\n",
       "[5 rows x 22 columns]"
      ]
     },
     "execution_count": 25,
     "metadata": {},
     "output_type": "execute_result"
    }
   ],
   "source": [
    "prop_df.head(5)"
   ]
  },
  {
   "cell_type": "code",
   "execution_count": 133,
   "metadata": {},
   "outputs": [
    {
     "data": {
      "text/plain": [
       "pandas.core.frame.DataFrame"
      ]
     },
     "execution_count": 133,
     "metadata": {},
     "output_type": "execute_result"
    }
   ],
   "source": [
    "prop_sdf = pd.DataFrame.spatial.from_xy(prop_df, 'LONGITUDE', 'LATITUDE',4326)\n",
    "type(prop_sdf)"
   ]
  },
  {
   "cell_type": "code",
   "execution_count": 37,
   "metadata": {},
   "outputs": [
    {
     "data": {
      "text/html": [
       "<div>\n",
       "<style scoped>\n",
       "    .dataframe tbody tr th:only-of-type {\n",
       "        vertical-align: middle;\n",
       "    }\n",
       "\n",
       "    .dataframe tbody tr th {\n",
       "        vertical-align: top;\n",
       "    }\n",
       "\n",
       "    .dataframe thead th {\n",
       "        text-align: right;\n",
       "    }\n",
       "</style>\n",
       "<table border=\"1\" class=\"dataframe\">\n",
       "  <thead>\n",
       "    <tr style=\"text-align: right;\">\n",
       "      <th></th>\n",
       "      <th>SALE TYPE</th>\n",
       "      <th>PROPERTY TYPE</th>\n",
       "      <th>CITY</th>\n",
       "      <th>STATE</th>\n",
       "      <th>ZIP</th>\n",
       "      <th>PRICE</th>\n",
       "      <th>BEDS</th>\n",
       "      <th>BATHS</th>\n",
       "      <th>LOCATION</th>\n",
       "      <th>SQUARE FEET</th>\n",
       "      <th>...</th>\n",
       "      <th>DAYS ON MARKET</th>\n",
       "      <th>$/SQUARE FEET</th>\n",
       "      <th>HOA/MONTH</th>\n",
       "      <th>STATUS</th>\n",
       "      <th>SOURCE</th>\n",
       "      <th>MLS#</th>\n",
       "      <th>LATITUDE</th>\n",
       "      <th>LONGITUDE</th>\n",
       "      <th>SHAPE</th>\n",
       "      <th>OBJECTID</th>\n",
       "    </tr>\n",
       "  </thead>\n",
       "  <tbody>\n",
       "    <tr>\n",
       "      <th>0</th>\n",
       "      <td>MLS Listing</td>\n",
       "      <td>Single Family Residential</td>\n",
       "      <td>Portland</td>\n",
       "      <td>OR</td>\n",
       "      <td>97211.0</td>\n",
       "      <td>27500.0</td>\n",
       "      <td>0.0</td>\n",
       "      <td>1.0</td>\n",
       "      <td>RODGER'S MARINA</td>\n",
       "      <td>350.0</td>\n",
       "      <td>...</td>\n",
       "      <td>53.0</td>\n",
       "      <td>79.0</td>\n",
       "      <td>NaN</td>\n",
       "      <td>Active</td>\n",
       "      <td>RMLS</td>\n",
       "      <td>18567126</td>\n",
       "      <td>45.604756</td>\n",
       "      <td>-122.624335</td>\n",
       "      <td>{\"x\": -122.62433473960267, \"y\": 45.60475636039...</td>\n",
       "      <td>1</td>\n",
       "    </tr>\n",
       "    <tr>\n",
       "      <th>1</th>\n",
       "      <td>MLS Listing</td>\n",
       "      <td>Vacant Land</td>\n",
       "      <td>Portland</td>\n",
       "      <td>OR</td>\n",
       "      <td>97210.0</td>\n",
       "      <td>30000.0</td>\n",
       "      <td>NaN</td>\n",
       "      <td>NaN</td>\n",
       "      <td>Portland West, Raleigh Hills</td>\n",
       "      <td>NaN</td>\n",
       "      <td>...</td>\n",
       "      <td>10.0</td>\n",
       "      <td>NaN</td>\n",
       "      <td>NaN</td>\n",
       "      <td>Active</td>\n",
       "      <td>RMLS</td>\n",
       "      <td>18118897</td>\n",
       "      <td>45.522837</td>\n",
       "      <td>-122.733173</td>\n",
       "      <td>{\"x\": -122.73317348721564, \"y\": 45.52283651278...</td>\n",
       "      <td>2</td>\n",
       "    </tr>\n",
       "    <tr>\n",
       "      <th>2</th>\n",
       "      <td>MLS Listing</td>\n",
       "      <td>Vacant Land</td>\n",
       "      <td>Portland</td>\n",
       "      <td>OR</td>\n",
       "      <td>97220.0</td>\n",
       "      <td>34777.0</td>\n",
       "      <td>NaN</td>\n",
       "      <td>NaN</td>\n",
       "      <td>Portland Northeast</td>\n",
       "      <td>NaN</td>\n",
       "      <td>...</td>\n",
       "      <td>239.0</td>\n",
       "      <td>NaN</td>\n",
       "      <td>NaN</td>\n",
       "      <td>Active</td>\n",
       "      <td>RMLS</td>\n",
       "      <td>18454531</td>\n",
       "      <td>45.554321</td>\n",
       "      <td>-122.553849</td>\n",
       "      <td>{\"x\": -122.55384907899088, \"y\": 45.55432092100...</td>\n",
       "      <td>3</td>\n",
       "    </tr>\n",
       "    <tr>\n",
       "      <th>3</th>\n",
       "      <td>MLS Listing</td>\n",
       "      <td>Mobile/Manufactured Home</td>\n",
       "      <td>Portland</td>\n",
       "      <td>OR</td>\n",
       "      <td>97206.0</td>\n",
       "      <td>35000.0</td>\n",
       "      <td>2.0</td>\n",
       "      <td>1.0</td>\n",
       "      <td>Portland Southeast</td>\n",
       "      <td>800.0</td>\n",
       "      <td>...</td>\n",
       "      <td>93.0</td>\n",
       "      <td>44.0</td>\n",
       "      <td>NaN</td>\n",
       "      <td>Active</td>\n",
       "      <td>RMLS</td>\n",
       "      <td>18331169</td>\n",
       "      <td>45.475296</td>\n",
       "      <td>-122.586139</td>\n",
       "      <td>{\"x\": -122.58613896196422, \"y\": 45.47529563803...</td>\n",
       "      <td>4</td>\n",
       "    </tr>\n",
       "    <tr>\n",
       "      <th>4</th>\n",
       "      <td>MLS Listing</td>\n",
       "      <td>Vacant Land</td>\n",
       "      <td>Portland</td>\n",
       "      <td>OR</td>\n",
       "      <td>97213.0</td>\n",
       "      <td>50000.0</td>\n",
       "      <td>NaN</td>\n",
       "      <td>NaN</td>\n",
       "      <td>Marchmont ADD &amp; RPLT</td>\n",
       "      <td>NaN</td>\n",
       "      <td>...</td>\n",
       "      <td>20.0</td>\n",
       "      <td>NaN</td>\n",
       "      <td>NaN</td>\n",
       "      <td>Active</td>\n",
       "      <td>RMLS</td>\n",
       "      <td>18388618</td>\n",
       "      <td>45.550021</td>\n",
       "      <td>-122.577701</td>\n",
       "      <td>{\"x\": -122.5777005888162, \"y\": 45.550021411183...</td>\n",
       "      <td>5</td>\n",
       "    </tr>\n",
       "  </tbody>\n",
       "</table>\n",
       "<p>5 rows × 22 columns</p>\n",
       "</div>"
      ],
      "text/plain": [
       "     SALE TYPE              PROPERTY TYPE      CITY STATE      ZIP    PRICE  \\\n",
       "0  MLS Listing  Single Family Residential  Portland    OR  97211.0  27500.0   \n",
       "1  MLS Listing                Vacant Land  Portland    OR  97210.0  30000.0   \n",
       "2  MLS Listing                Vacant Land  Portland    OR  97220.0  34777.0   \n",
       "3  MLS Listing   Mobile/Manufactured Home  Portland    OR  97206.0  35000.0   \n",
       "4  MLS Listing                Vacant Land  Portland    OR  97213.0  50000.0   \n",
       "\n",
       "   BEDS  BATHS                      LOCATION  SQUARE FEET  ...  \\\n",
       "0   0.0    1.0               RODGER'S MARINA        350.0  ...   \n",
       "1   NaN    NaN  Portland West, Raleigh Hills          NaN  ...   \n",
       "2   NaN    NaN            Portland Northeast          NaN  ...   \n",
       "3   2.0    1.0            Portland Southeast        800.0  ...   \n",
       "4   NaN    NaN          Marchmont ADD & RPLT          NaN  ...   \n",
       "\n",
       "   DAYS ON MARKET  $/SQUARE FEET  HOA/MONTH  STATUS  SOURCE      MLS#  \\\n",
       "0            53.0           79.0        NaN  Active    RMLS  18567126   \n",
       "1            10.0            NaN        NaN  Active    RMLS  18118897   \n",
       "2           239.0            NaN        NaN  Active    RMLS  18454531   \n",
       "3            93.0           44.0        NaN  Active    RMLS  18331169   \n",
       "4            20.0            NaN        NaN  Active    RMLS  18388618   \n",
       "\n",
       "    LATITUDE   LONGITUDE                                              SHAPE  \\\n",
       "0  45.604756 -122.624335  {\"x\": -122.62433473960267, \"y\": 45.60475636039...   \n",
       "1  45.522837 -122.733173  {\"x\": -122.73317348721564, \"y\": 45.52283651278...   \n",
       "2  45.554321 -122.553849  {\"x\": -122.55384907899088, \"y\": 45.55432092100...   \n",
       "3  45.475296 -122.586139  {\"x\": -122.58613896196422, \"y\": 45.47529563803...   \n",
       "4  45.550021 -122.577701  {\"x\": -122.5777005888162, \"y\": 45.550021411183...   \n",
       "\n",
       "   OBJECTID  \n",
       "0         1  \n",
       "1         2  \n",
       "2         3  \n",
       "3         4  \n",
       "4         5  \n",
       "\n",
       "[5 rows x 22 columns]"
      ]
     },
     "execution_count": 37,
     "metadata": {},
     "output_type": "execute_result"
    }
   ],
   "source": [
    "prop_sdf.head(5)"
   ]
  },
  {
   "cell_type": "code",
   "execution_count": 48,
   "metadata": {},
   "outputs": [
    {
     "data": {
      "application/vnd.jupyter.widget-view+json": {
       "model_id": "067cbe53f5524f7bbcfa8f3a97457e72",
       "version_major": 2,
       "version_minor": 0
      },
      "text/plain": [
       "MapView(layout=Layout(height='400px', width='100%'))"
      ]
     },
     "metadata": {},
     "output_type": "display_data"
    },
    {
     "data": {
      "text/html": [
       "<div class=\"map-static-img-preview-1ee3aee9-5f5c-4a14-a6c0-1a1d74dd3ffd\"><img src=\"\"></img></div>"
      ],
      "text/plain": [
       "<IPython.core.display.HTML object>"
      ]
     },
     "metadata": {},
     "output_type": "display_data"
    }
   ],
   "source": [
    "pdx_map = GIS().map('PORTLAND, OR')\n",
    "#pdx_map.basemap='streets'\n",
    "pdx_map"
   ]
  },
  {
   "cell_type": "code",
   "execution_count": null,
   "metadata": {},
   "outputs": [],
   "source": []
  },
  {
   "cell_type": "code",
   "execution_count": 134,
   "metadata": {},
   "outputs": [
    {
     "data": {
      "text/plain": [
       "True"
      ]
     },
     "execution_count": 134,
     "metadata": {},
     "output_type": "execute_result"
    }
   ],
   "source": [
    "prop_sdf.spatial.plot(map_widget=pdx_map)"
   ]
  },
  {
   "cell_type": "code",
   "execution_count": null,
   "metadata": {},
   "outputs": [],
   "source": []
  },
  {
   "cell_type": "code",
   "execution_count": 35,
   "metadata": {
    "scrolled": true
   },
   "outputs": [
    {
     "name": "stdout",
     "output_type": "stream",
     "text": [
      "<class 'pandas.core.frame.DataFrame'>\n",
      "RangeIndex: 3716 entries, 0 to 3715\n",
      "Data columns (total 22 columns):\n",
      "SALE TYPE         3716 non-null object\n",
      "PROPERTY TYPE     3715 non-null object\n",
      "CITY              3715 non-null object\n",
      "STATE             3715 non-null object\n",
      "ZIP               3715 non-null float64\n",
      "PRICE             3714 non-null float64\n",
      "BEDS              3486 non-null float64\n",
      "BATHS             3487 non-null float64\n",
      "LOCATION          3715 non-null object\n",
      "SQUARE FEET       3470 non-null float64\n",
      "LOT SIZE          2539 non-null float64\n",
      "YEAR BUILT        3399 non-null float64\n",
      "DAYS ON MARKET    3634 non-null float64\n",
      "$/SQUARE FEET     3469 non-null float64\n",
      "HOA/MONTH         1178 non-null float64\n",
      "STATUS            3715 non-null object\n",
      "SOURCE            3715 non-null object\n",
      "MLS#              3715 non-null object\n",
      "LATITUDE          3715 non-null float64\n",
      "LONGITUDE         3715 non-null float64\n",
      "SHAPE             3716 non-null geometry\n",
      "OBJECTID          3716 non-null int64\n",
      "dtypes: float64(12), geometry(1), int64(1), object(8)\n",
      "memory usage: 638.8+ KB\n"
     ]
    }
   ],
   "source": [
    "prop_sdf.info()\n"
   ]
  },
  {
   "cell_type": "code",
   "execution_count": 40,
   "metadata": {},
   "outputs": [
    {
     "data": {
      "application/vnd.jupyter.widget-view+json": {
       "model_id": "55a142ba58a545b993ec77c167a7cc47",
       "version_major": 2,
       "version_minor": 0
      },
      "text/plain": [
       "MapView(layout=Layout(height='400px', width='100%'))"
      ]
     },
     "metadata": {},
     "output_type": "display_data"
    },
    {
     "data": {
      "text/html": [
       "<div class=\"map-static-img-preview-7f8c8c9c-7d99-48c8-b478-965dfd66ce1a\"><img src=\"\"></img></div>"
      ],
      "text/plain": [
       "<IPython.core.display.HTML object>"
      ]
     },
     "metadata": {},
     "output_type": "display_data"
    }
   ],
   "source": [
    "pdx_density_map = gis.map('Portland, OR')\n",
    "pdx_density_map.basemap='gray'\n",
    "pdx_density_map"
   ]
  },
  {
   "cell_type": "code",
   "execution_count": 42,
   "metadata": {
    "scrolled": true
   },
   "outputs": [
    {
     "data": {
      "application/vnd.jupyter.widget-view+json": {
       "model_id": "55a142ba58a545b993ec77c167a7cc47",
       "version_major": 2,
       "version_minor": 0
      },
      "text/plain": [
       "MapView(jupyter_target='notebook', layout=Layout(height='400px', width='100%'), ready=True, zoom=10.0)"
      ]
     },
     "metadata": {},
     "output_type": "display_data"
    },
    {
     "data": {
      "text/html": [
       "<div class=\"map-static-img-preview-7f8c8c9c-7d99-48c8-b478-965dfd66ce1a\"><img src=\"\"></img></div>"
      ],
      "text/plain": [
       "<IPython.core.display.HTML object>"
      ]
     },
     "metadata": {},
     "output_type": "display_data"
    }
   ],
   "source": [
    "prop_sdf.spatial.plot(map_widget=pdx_density_map, renderer_type='h')\n",
    "pdx_density_map"
   ]
  },
  {
   "cell_type": "code",
   "execution_count": 44,
   "metadata": {
    "scrolled": true
   },
   "outputs": [
    {
     "data": {
      "text/html": [
       "<div>\n",
       "<style scoped>\n",
       "    .dataframe tbody tr th:only-of-type {\n",
       "        vertical-align: middle;\n",
       "    }\n",
       "\n",
       "    .dataframe tbody tr th {\n",
       "        vertical-align: top;\n",
       "    }\n",
       "\n",
       "    .dataframe thead th {\n",
       "        text-align: right;\n",
       "    }\n",
       "</style>\n",
       "<table border=\"1\" class=\"dataframe\">\n",
       "  <thead>\n",
       "    <tr style=\"text-align: right;\">\n",
       "      <th></th>\n",
       "      <th>AGE_10_14</th>\n",
       "      <th>AGE_15_19</th>\n",
       "      <th>AGE_20_24</th>\n",
       "      <th>AGE_25_34</th>\n",
       "      <th>AGE_35_44</th>\n",
       "      <th>AGE_45_54</th>\n",
       "      <th>AGE_55_64</th>\n",
       "      <th>AGE_5_9</th>\n",
       "      <th>AGE_65_74</th>\n",
       "      <th>AGE_75_84</th>\n",
       "      <th>...</th>\n",
       "      <th>PLACEFIPS</th>\n",
       "      <th>POP2010</th>\n",
       "      <th>POPULATION</th>\n",
       "      <th>POP_CLASS</th>\n",
       "      <th>RENTER_OCC</th>\n",
       "      <th>SHAPE</th>\n",
       "      <th>ST</th>\n",
       "      <th>STFIPS</th>\n",
       "      <th>VACANT</th>\n",
       "      <th>WHITE</th>\n",
       "    </tr>\n",
       "  </thead>\n",
       "  <tbody>\n",
       "    <tr>\n",
       "      <th>0</th>\n",
       "      <td>1413</td>\n",
       "      <td>1381</td>\n",
       "      <td>1106</td>\n",
       "      <td>2138</td>\n",
       "      <td>1815</td>\n",
       "      <td>1411</td>\n",
       "      <td>979</td>\n",
       "      <td>1557</td>\n",
       "      <td>525</td>\n",
       "      <td>307</td>\n",
       "      <td>...</td>\n",
       "      <td>0468080</td>\n",
       "      <td>14287</td>\n",
       "      <td>14980</td>\n",
       "      <td>6</td>\n",
       "      <td>1074</td>\n",
       "      <td>{\"x\": -12768343.256613126, \"y\": 3842463.708135...</td>\n",
       "      <td>AZ</td>\n",
       "      <td>04</td>\n",
       "      <td>261</td>\n",
       "      <td>9196</td>\n",
       "    </tr>\n",
       "    <tr>\n",
       "      <th>1</th>\n",
       "      <td>727</td>\n",
       "      <td>738</td>\n",
       "      <td>677</td>\n",
       "      <td>1380</td>\n",
       "      <td>1185</td>\n",
       "      <td>1333</td>\n",
       "      <td>1087</td>\n",
       "      <td>740</td>\n",
       "      <td>661</td>\n",
       "      <td>444</td>\n",
       "      <td>...</td>\n",
       "      <td>0602042</td>\n",
       "      <td>9932</td>\n",
       "      <td>10239</td>\n",
       "      <td>6</td>\n",
       "      <td>2056</td>\n",
       "      <td>{\"x\": -13613950.337588644, \"y\": 4931686.754090...</td>\n",
       "      <td>CA</td>\n",
       "      <td>06</td>\n",
       "      <td>267</td>\n",
       "      <td>8273</td>\n",
       "    </tr>\n",
       "    <tr>\n",
       "      <th>2</th>\n",
       "      <td>593</td>\n",
       "      <td>511</td>\n",
       "      <td>2323</td>\n",
       "      <td>2767</td>\n",
       "      <td>746</td>\n",
       "      <td>127</td>\n",
       "      <td>34</td>\n",
       "      <td>1229</td>\n",
       "      <td>4</td>\n",
       "      <td>2</td>\n",
       "      <td>...</td>\n",
       "      <td>0610561</td>\n",
       "      <td>10616</td>\n",
       "      <td>11869</td>\n",
       "      <td>6</td>\n",
       "      <td>2558</td>\n",
       "      <td>{\"x\": -13066582.116550362, \"y\": 3925650.676616...</td>\n",
       "      <td>CA</td>\n",
       "      <td>06</td>\n",
       "      <td>296</td>\n",
       "      <td>7530</td>\n",
       "    </tr>\n",
       "    <tr>\n",
       "      <th>3</th>\n",
       "      <td>888</td>\n",
       "      <td>988</td>\n",
       "      <td>900</td>\n",
       "      <td>1729</td>\n",
       "      <td>1479</td>\n",
       "      <td>1443</td>\n",
       "      <td>959</td>\n",
       "      <td>766</td>\n",
       "      <td>514</td>\n",
       "      <td>280</td>\n",
       "      <td>...</td>\n",
       "      <td>0613560</td>\n",
       "      <td>10866</td>\n",
       "      <td>11195</td>\n",
       "      <td>6</td>\n",
       "      <td>761</td>\n",
       "      <td>{\"x\": -13123874.446103057, \"y\": 4044249.710416...</td>\n",
       "      <td>CA</td>\n",
       "      <td>06</td>\n",
       "      <td>86</td>\n",
       "      <td>5898</td>\n",
       "    </tr>\n",
       "    <tr>\n",
       "      <th>4</th>\n",
       "      <td>1086</td>\n",
       "      <td>1228</td>\n",
       "      <td>1013</td>\n",
       "      <td>1822</td>\n",
       "      <td>1759</td>\n",
       "      <td>1478</td>\n",
       "      <td>1112</td>\n",
       "      <td>925</td>\n",
       "      <td>687</td>\n",
       "      <td>477</td>\n",
       "      <td>...</td>\n",
       "      <td>0614974</td>\n",
       "      <td>12823</td>\n",
       "      <td>13009</td>\n",
       "      <td>6</td>\n",
       "      <td>1763</td>\n",
       "      <td>{\"x\": -13151212.145276317, \"y\": 4027601.332347...</td>\n",
       "      <td>CA</td>\n",
       "      <td>06</td>\n",
       "      <td>88</td>\n",
       "      <td>6930</td>\n",
       "    </tr>\n",
       "  </tbody>\n",
       "</table>\n",
       "<p>5 rows × 51 columns</p>\n",
       "</div>"
      ],
      "text/plain": [
       "   AGE_10_14  AGE_15_19  AGE_20_24  AGE_25_34  AGE_35_44  AGE_45_54  \\\n",
       "0       1413       1381       1106       2138       1815       1411   \n",
       "1        727        738        677       1380       1185       1333   \n",
       "2        593        511       2323       2767        746        127   \n",
       "3        888        988        900       1729       1479       1443   \n",
       "4       1086       1228       1013       1822       1759       1478   \n",
       "\n",
       "   AGE_55_64  AGE_5_9  AGE_65_74  AGE_75_84  ...  PLACEFIPS  POP2010  \\\n",
       "0        979     1557        525        307  ...    0468080    14287   \n",
       "1       1087      740        661        444  ...    0602042     9932   \n",
       "2         34     1229          4          2  ...    0610561    10616   \n",
       "3        959      766        514        280  ...    0613560    10866   \n",
       "4       1112      925        687        477  ...    0614974    12823   \n",
       "\n",
       "   POPULATION  POP_CLASS  RENTER_OCC  \\\n",
       "0       14980          6        1074   \n",
       "1       10239          6        2056   \n",
       "2       11869          6        2558   \n",
       "3       11195          6         761   \n",
       "4       13009          6        1763   \n",
       "\n",
       "                                               SHAPE  ST STFIPS VACANT  WHITE  \n",
       "0  {\"x\": -12768343.256613126, \"y\": 3842463.708135...  AZ     04    261   9196  \n",
       "1  {\"x\": -13613950.337588644, \"y\": 4931686.754090...  CA     06    267   8273  \n",
       "2  {\"x\": -13066582.116550362, \"y\": 3925650.676616...  CA     06    296   7530  \n",
       "3  {\"x\": -13123874.446103057, \"y\": 4044249.710416...  CA     06     86   5898  \n",
       "4  {\"x\": -13151212.145276317, \"y\": 4027601.332347...  CA     06     88   6930  \n",
       "\n",
       "[5 rows x 51 columns]"
      ]
     },
     "execution_count": 44,
     "metadata": {},
     "output_type": "execute_result"
    }
   ],
   "source": [
    "item = gis.content.get(\"85d0ca4ea1ca4b9abf0c51b9bd34de2e\")\n",
    "flayer = item.layers[0]\n",
    "\n",
    "# Specify a SQL query and get a sub-set of the original data as a DataFrame\n",
    "df = flayer.query(where=\"AGE_45_54 < 1500\").sdf\n",
    "\n",
    "# Visualize the top 5 records\n",
    "df.head()"
   ]
  },
  {
   "cell_type": "code",
   "execution_count": 65,
   "metadata": {},
   "outputs": [],
   "source": [
    "df.head(1)['SHAPE']\n",
    "df.to_csv('estoyenojado1.csv', index = False, encoding='utf-8')"
   ]
  },
  {
   "cell_type": "code",
   "execution_count": 77,
   "metadata": {},
   "outputs": [
    {
     "data": {
      "application/vnd.jupyter.widget-view+json": {
       "model_id": "56bc2530e633414c98bb1921c2a2488a",
       "version_major": 2,
       "version_minor": 0
      },
      "text/plain": [
       "MapView(layout=Layout(height='400px', width='100%'))"
      ]
     },
     "metadata": {},
     "output_type": "display_data"
    },
    {
     "data": {
      "text/html": [
       "<div class=\"map-static-img-preview-ad41e504-8ac0-4867-a62e-f0a9e5edab0f\"><img src=\"\"></img></div>"
      ],
      "text/plain": [
       "<IPython.core.display.HTML object>"
      ]
     },
     "metadata": {},
     "output_type": "display_data"
    }
   ],
   "source": [
    "m1 = GIS().map('United States')\n",
    "m1.basemap = 'streets'\n",
    "m1"
   ]
  },
  {
   "cell_type": "code",
   "execution_count": null,
   "metadata": {},
   "outputs": [],
   "source": []
  },
  {
   "cell_type": "code",
   "execution_count": 78,
   "metadata": {},
   "outputs": [],
   "source": [
    "m1.zoom = 4\n",
    "m1.center = [39,-98]"
   ]
  },
  {
   "cell_type": "code",
   "execution_count": 79,
   "metadata": {},
   "outputs": [
    {
     "data": {
      "text/plain": [
       "True"
      ]
     },
     "execution_count": 79,
     "metadata": {},
     "output_type": "execute_result"
    }
   ],
   "source": [
    "df.spatial.plot(map_widget= m1)"
   ]
  },
  {
   "cell_type": "code",
   "execution_count": 98,
   "metadata": {
    "scrolled": true
   },
   "outputs": [
    {
     "data": {
      "application/vnd.jupyter.widget-view+json": {
       "model_id": "550a08aab296456da8011fd91226c66a",
       "version_major": 2,
       "version_minor": 0
      },
      "text/plain": [
       "MapView(layout=Layout(height='400px', width='100%'))"
      ]
     },
     "metadata": {},
     "output_type": "display_data"
    },
    {
     "data": {
      "text/html": [
       "<div class=\"map-static-img-preview-4f2c1f90-2344-4945-afc4-84def46618ac\"><img src=\"\"></img></div>"
      ],
      "text/plain": [
       "<IPython.core.display.HTML object>"
      ]
     },
     "metadata": {},
     "output_type": "display_data"
    }
   ],
   "source": [
    "m2 = GIS().map('Bogotá, Colombia')\n",
    "m2.basemap='streets'\n",
    "m2"
   ]
  },
  {
   "cell_type": "code",
   "execution_count": 52,
   "metadata": {},
   "outputs": [
    {
     "data": {
      "text/plain": [
       "[('Mi casa', 4.740548, -74.046539)]"
      ]
     },
     "execution_count": 52,
     "metadata": {},
     "output_type": "execute_result"
    }
   ],
   "source": [
    "#house_df = []\n",
    "records = []\n",
    "desc = \"Mi casa\"\n",
    "long = 4.740548 \n",
    "lat = -74.046539\n",
    "records.append((desc,long,lat))\n",
    "records\n",
    "    "
   ]
  },
  {
   "cell_type": "code",
   "execution_count": 115,
   "metadata": {},
   "outputs": [
    {
     "data": {
      "text/html": [
       "<div>\n",
       "<style scoped>\n",
       "    .dataframe tbody tr th:only-of-type {\n",
       "        vertical-align: middle;\n",
       "    }\n",
       "\n",
       "    .dataframe tbody tr th {\n",
       "        vertical-align: top;\n",
       "    }\n",
       "\n",
       "    .dataframe thead th {\n",
       "        text-align: right;\n",
       "    }\n",
       "</style>\n",
       "<table border=\"1\" class=\"dataframe\">\n",
       "  <thead>\n",
       "    <tr style=\"text-align: right;\">\n",
       "      <th></th>\n",
       "      <th>descripcion</th>\n",
       "      <th>latitud</th>\n",
       "      <th>longitud</th>\n",
       "    </tr>\n",
       "  </thead>\n",
       "  <tbody>\n",
       "    <tr>\n",
       "      <th>0</th>\n",
       "      <td>Mi casa</td>\n",
       "      <td>4.740548</td>\n",
       "      <td>-74.046539</td>\n",
       "    </tr>\n",
       "  </tbody>\n",
       "</table>\n",
       "</div>"
      ],
      "text/plain": [
       "  descripcion   latitud   longitud\n",
       "0     Mi casa  4.740548 -74.046539"
      ]
     },
     "execution_count": 115,
     "metadata": {},
     "output_type": "execute_result"
    }
   ],
   "source": [
    "import pandas as pd\n",
    "house_df =pd.DataFrame(records, columns=['descripcion', 'latitud', 'longitud'])\n",
    "house_df.head()"
   ]
  },
  {
   "cell_type": "code",
   "execution_count": 128,
   "metadata": {},
   "outputs": [
    {
     "data": {
      "text/plain": [
       "pandas.core.frame.DataFrame"
      ]
     },
     "execution_count": 128,
     "metadata": {},
     "output_type": "execute_result"
    }
   ],
   "source": [
    "house_sdf = pd.DataFrame.spatial.from_xy(house_df, 'latitud', 'longitud',4326)\n",
    "type(prop_sdf)"
   ]
  },
  {
   "cell_type": "code",
   "execution_count": 129,
   "metadata": {},
   "outputs": [
    {
     "data": {
      "text/html": [
       "<div>\n",
       "<style scoped>\n",
       "    .dataframe tbody tr th:only-of-type {\n",
       "        vertical-align: middle;\n",
       "    }\n",
       "\n",
       "    .dataframe tbody tr th {\n",
       "        vertical-align: top;\n",
       "    }\n",
       "\n",
       "    .dataframe thead th {\n",
       "        text-align: right;\n",
       "    }\n",
       "</style>\n",
       "<table border=\"1\" class=\"dataframe\">\n",
       "  <thead>\n",
       "    <tr style=\"text-align: right;\">\n",
       "      <th></th>\n",
       "      <th>descripcion</th>\n",
       "      <th>latitud</th>\n",
       "      <th>longitud</th>\n",
       "      <th>SHAPE</th>\n",
       "    </tr>\n",
       "  </thead>\n",
       "  <tbody>\n",
       "    <tr>\n",
       "      <th>0</th>\n",
       "      <td>Mi casa</td>\n",
       "      <td>4.740548</td>\n",
       "      <td>-74.046539</td>\n",
       "      <td>{\"x\": 4.740548, \"y\": -74.046539, \"spatialRefer...</td>\n",
       "    </tr>\n",
       "  </tbody>\n",
       "</table>\n",
       "</div>"
      ],
      "text/plain": [
       "  descripcion   latitud   longitud  \\\n",
       "0     Mi casa  4.740548 -74.046539   \n",
       "\n",
       "                                               SHAPE  \n",
       "0  {\"x\": 4.740548, \"y\": -74.046539, \"spatialRefer...  "
      ]
     },
     "execution_count": 129,
     "metadata": {},
     "output_type": "execute_result"
    }
   ],
   "source": [
    "house_sdf.head()"
   ]
  },
  {
   "cell_type": "code",
   "execution_count": 130,
   "metadata": {},
   "outputs": [
    {
     "data": {
      "text/plain": [
       "True"
      ]
     },
     "execution_count": 130,
     "metadata": {},
     "output_type": "execute_result"
    }
   ],
   "source": [
    "house_sdf.spatial.plot(map_widget= m2)"
   ]
  },
  {
   "cell_type": "code",
   "execution_count": 132,
   "metadata": {},
   "outputs": [],
   "source": [
    "house_sdf.to_csv('estoyenojado3.csv', index = False, encoding='utf-8')"
   ]
  },
  {
   "cell_type": "code",
   "execution_count": 66,
   "metadata": {},
   "outputs": [],
   "source": [
    "df3 = pd.read_csv('estoyenojado.csv', encoding='utf-8')"
   ]
  },
  {
   "cell_type": "code",
   "execution_count": 67,
   "metadata": {
    "scrolled": true
   },
   "outputs": [
    {
     "data": {
      "text/html": [
       "<div>\n",
       "<style scoped>\n",
       "    .dataframe tbody tr th:only-of-type {\n",
       "        vertical-align: middle;\n",
       "    }\n",
       "\n",
       "    .dataframe tbody tr th {\n",
       "        vertical-align: top;\n",
       "    }\n",
       "\n",
       "    .dataframe thead th {\n",
       "        text-align: right;\n",
       "    }\n",
       "</style>\n",
       "<table border=\"1\" class=\"dataframe\">\n",
       "  <thead>\n",
       "    <tr style=\"text-align: right;\">\n",
       "      <th></th>\n",
       "      <th>descripcion</th>\n",
       "      <th>longitud</th>\n",
       "      <th>latitud</th>\n",
       "      <th>SHAPE</th>\n",
       "    </tr>\n",
       "  </thead>\n",
       "  <tbody>\n",
       "    <tr>\n",
       "      <th>0</th>\n",
       "      <td>Mi casa</td>\n",
       "      <td>4.740548</td>\n",
       "      <td>-74.046539</td>\n",
       "      <td>{'x': 4.740548, 'y': -74.046539, 'spatialRefer...</td>\n",
       "    </tr>\n",
       "  </tbody>\n",
       "</table>\n",
       "</div>"
      ],
      "text/plain": [
       "  descripcion  longitud    latitud  \\\n",
       "0     Mi casa  4.740548 -74.046539   \n",
       "\n",
       "                                               SHAPE  \n",
       "0  {'x': 4.740548, 'y': -74.046539, 'spatialRefer...  "
      ]
     },
     "execution_count": 67,
     "metadata": {},
     "output_type": "execute_result"
    }
   ],
   "source": [
    "df3.head()"
   ]
  },
  {
   "cell_type": "code",
   "execution_count": 102,
   "metadata": {
    "scrolled": true
   },
   "outputs": [],
   "source": [
    "house_sdf = pd.DataFrame.spatial.from_xy(house_df, 'longitud', 'latitud')"
   ]
  },
  {
   "cell_type": "code",
   "execution_count": 103,
   "metadata": {},
   "outputs": [
    {
     "data": {
      "text/plain": [
       "True"
      ]
     },
     "execution_count": 103,
     "metadata": {},
     "output_type": "execute_result"
    }
   ],
   "source": [
    "house_sdf.spatial.plot(map_widget= m2)"
   ]
  },
  {
   "cell_type": "code",
   "execution_count": 99,
   "metadata": {},
   "outputs": [
    {
     "data": {
      "text/html": [
       "<div>\n",
       "<style scoped>\n",
       "    .dataframe tbody tr th:only-of-type {\n",
       "        vertical-align: middle;\n",
       "    }\n",
       "\n",
       "    .dataframe tbody tr th {\n",
       "        vertical-align: top;\n",
       "    }\n",
       "\n",
       "    .dataframe thead th {\n",
       "        text-align: right;\n",
       "    }\n",
       "</style>\n",
       "<table border=\"1\" class=\"dataframe\">\n",
       "  <thead>\n",
       "    <tr style=\"text-align: right;\">\n",
       "      <th></th>\n",
       "      <th>descripcion</th>\n",
       "      <th>longitud</th>\n",
       "      <th>latitud</th>\n",
       "      <th>SHAPE</th>\n",
       "    </tr>\n",
       "  </thead>\n",
       "  <tbody>\n",
       "    <tr>\n",
       "      <th>0</th>\n",
       "      <td>Mi casa</td>\n",
       "      <td>4.740548</td>\n",
       "      <td>-74.046539</td>\n",
       "      <td>{\"x\": 4.740548, \"y\": -74.046539, \"spatialRefer...</td>\n",
       "    </tr>\n",
       "  </tbody>\n",
       "</table>\n",
       "</div>"
      ],
      "text/plain": [
       "  descripcion  longitud    latitud  \\\n",
       "0     Mi casa  4.740548 -74.046539   \n",
       "\n",
       "                                               SHAPE  \n",
       "0  {\"x\": 4.740548, \"y\": -74.046539, \"spatialRefer...  "
      ]
     },
     "execution_count": 99,
     "metadata": {},
     "output_type": "execute_result"
    }
   ],
   "source": [
    "house_sdf.head()"
   ]
  },
  {
   "cell_type": "code",
   "execution_count": 89,
   "metadata": {},
   "outputs": [
    {
     "ename": "ModuleNotFoundError",
     "evalue": "No module named 'arcpy'",
     "output_type": "error",
     "traceback": [
      "\u001b[1;31m---------------------------------------------------------\u001b[0m",
      "\u001b[1;31mModuleNotFoundError\u001b[0m     Traceback (most recent call last)",
      "\u001b[1;32m<ipython-input-89-5467a3dc9fe3>\u001b[0m in \u001b[0;36m<module>\u001b[1;34m\u001b[0m\n\u001b[1;32m----> 1\u001b[1;33m \u001b[1;32mimport\u001b[0m \u001b[0marcpy\u001b[0m\u001b[1;33m\u001b[0m\u001b[1;33m\u001b[0m\u001b[0m\n\u001b[0m",
      "\u001b[1;31mModuleNotFoundError\u001b[0m: No module named 'arcpy'"
     ]
    }
   ],
   "source": [
    "import arcpy"
   ]
  }
 ],
 "metadata": {
  "kernelspec": {
   "display_name": "Python 3",
   "language": "python",
   "name": "python3"
  },
  "language_info": {
   "codemirror_mode": {
    "name": "ipython",
    "version": 3
   },
   "file_extension": ".py",
   "mimetype": "text/x-python",
   "name": "python",
   "nbconvert_exporter": "python",
   "pygments_lexer": "ipython3",
   "version": "3.6.8"
  }
 },
 "nbformat": 4,
 "nbformat_minor": 2
}
