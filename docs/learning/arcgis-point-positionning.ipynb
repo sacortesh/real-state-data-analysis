{
 "cells": [
  {
   "cell_type": "code",
   "execution_count": 1,
   "metadata": {},
   "outputs": [],
   "source": [
    "import pandas as pd\n",
    "import matplotlib.pyplot as plt\n",
    "%matplotlib inline\n",
    "\n",
    "from arcgis.gis import GIS\n",
    "from arcgis.features import GeoAccessor, GeoSeriesAccessor"
   ]
  },
  {
   "cell_type": "code",
   "execution_count": 2,
   "metadata": {},
   "outputs": [],
   "source": [
    "from arcgis.geocoding import geocode"
   ]
  },
  {
   "cell_type": "code",
   "execution_count": 3,
   "metadata": {},
   "outputs": [],
   "source": [
    "gis = GIS()"
   ]
  },
  {
   "cell_type": "code",
   "execution_count": 4,
   "metadata": {},
   "outputs": [],
   "source": [
    "csv_path = \"file1_2018-09-20-14-42-11_4k.csv\""
   ]
  },
  {
   "cell_type": "code",
   "execution_count": 5,
   "metadata": {},
   "outputs": [
    {
     "data": {
      "text/html": [
       "<div>\n",
       "<style scoped>\n",
       "    .dataframe tbody tr th:only-of-type {\n",
       "        vertical-align: middle;\n",
       "    }\n",
       "\n",
       "    .dataframe tbody tr th {\n",
       "        vertical-align: top;\n",
       "    }\n",
       "\n",
       "    .dataframe thead th {\n",
       "        text-align: right;\n",
       "    }\n",
       "</style>\n",
       "<table border=\"1\" class=\"dataframe\">\n",
       "  <thead>\n",
       "    <tr style=\"text-align: right;\">\n",
       "      <th></th>\n",
       "      <th>SALE TYPE</th>\n",
       "      <th>SOLD DATE</th>\n",
       "      <th>PROPERTY TYPE</th>\n",
       "      <th>CITY</th>\n",
       "      <th>STATE</th>\n",
       "      <th>ZIP</th>\n",
       "      <th>PRICE</th>\n",
       "      <th>BEDS</th>\n",
       "      <th>BATHS</th>\n",
       "      <th>LOCATION</th>\n",
       "      <th>...</th>\n",
       "      <th>HOA/MONTH</th>\n",
       "      <th>STATUS</th>\n",
       "      <th>NEXT OPEN HOUSE START TIME</th>\n",
       "      <th>NEXT OPEN HOUSE END TIME</th>\n",
       "      <th>SOURCE</th>\n",
       "      <th>MLS#</th>\n",
       "      <th>FAVORITE</th>\n",
       "      <th>INTERESTED</th>\n",
       "      <th>LATITUDE</th>\n",
       "      <th>LONGITUDE</th>\n",
       "    </tr>\n",
       "  </thead>\n",
       "  <tbody>\n",
       "    <tr>\n",
       "      <th>0</th>\n",
       "      <td>MLS Listing</td>\n",
       "      <td>NaN</td>\n",
       "      <td>Single Family Residential</td>\n",
       "      <td>Portland</td>\n",
       "      <td>OR</td>\n",
       "      <td>97211.0</td>\n",
       "      <td>27500.0</td>\n",
       "      <td>0.0</td>\n",
       "      <td>1.0</td>\n",
       "      <td>RODGER'S MARINA</td>\n",
       "      <td>...</td>\n",
       "      <td>NaN</td>\n",
       "      <td>Active</td>\n",
       "      <td>NaN</td>\n",
       "      <td>NaN</td>\n",
       "      <td>RMLS</td>\n",
       "      <td>18567126</td>\n",
       "      <td>N</td>\n",
       "      <td>Y</td>\n",
       "      <td>45.604756</td>\n",
       "      <td>-122.624335</td>\n",
       "    </tr>\n",
       "    <tr>\n",
       "      <th>1</th>\n",
       "      <td>MLS Listing</td>\n",
       "      <td>NaN</td>\n",
       "      <td>Vacant Land</td>\n",
       "      <td>Portland</td>\n",
       "      <td>OR</td>\n",
       "      <td>97210.0</td>\n",
       "      <td>30000.0</td>\n",
       "      <td>NaN</td>\n",
       "      <td>NaN</td>\n",
       "      <td>Portland West, Raleigh Hills</td>\n",
       "      <td>...</td>\n",
       "      <td>NaN</td>\n",
       "      <td>Active</td>\n",
       "      <td>NaN</td>\n",
       "      <td>NaN</td>\n",
       "      <td>RMLS</td>\n",
       "      <td>18118897</td>\n",
       "      <td>N</td>\n",
       "      <td>Y</td>\n",
       "      <td>45.522837</td>\n",
       "      <td>-122.733173</td>\n",
       "    </tr>\n",
       "    <tr>\n",
       "      <th>2</th>\n",
       "      <td>MLS Listing</td>\n",
       "      <td>NaN</td>\n",
       "      <td>Vacant Land</td>\n",
       "      <td>Portland</td>\n",
       "      <td>OR</td>\n",
       "      <td>97220.0</td>\n",
       "      <td>34777.0</td>\n",
       "      <td>NaN</td>\n",
       "      <td>NaN</td>\n",
       "      <td>Portland Northeast</td>\n",
       "      <td>...</td>\n",
       "      <td>NaN</td>\n",
       "      <td>Active</td>\n",
       "      <td>NaN</td>\n",
       "      <td>NaN</td>\n",
       "      <td>RMLS</td>\n",
       "      <td>18454531</td>\n",
       "      <td>N</td>\n",
       "      <td>Y</td>\n",
       "      <td>45.554321</td>\n",
       "      <td>-122.553849</td>\n",
       "    </tr>\n",
       "  </tbody>\n",
       "</table>\n",
       "<p>3 rows × 25 columns</p>\n",
       "</div>"
      ],
      "text/plain": [
       "     SALE TYPE  SOLD DATE              PROPERTY TYPE      CITY STATE      ZIP  \\\n",
       "0  MLS Listing        NaN  Single Family Residential  Portland    OR  97211.0   \n",
       "1  MLS Listing        NaN                Vacant Land  Portland    OR  97210.0   \n",
       "2  MLS Listing        NaN                Vacant Land  Portland    OR  97220.0   \n",
       "\n",
       "     PRICE  BEDS  BATHS                      LOCATION     ...      HOA/MONTH  \\\n",
       "0  27500.0   0.0    1.0               RODGER'S MARINA     ...            NaN   \n",
       "1  30000.0   NaN    NaN  Portland West, Raleigh Hills     ...            NaN   \n",
       "2  34777.0   NaN    NaN            Portland Northeast     ...            NaN   \n",
       "\n",
       "   STATUS  NEXT OPEN HOUSE START TIME  NEXT OPEN HOUSE END TIME  SOURCE  \\\n",
       "0  Active                         NaN                       NaN    RMLS   \n",
       "1  Active                         NaN                       NaN    RMLS   \n",
       "2  Active                         NaN                       NaN    RMLS   \n",
       "\n",
       "       MLS# FAVORITE INTERESTED   LATITUDE   LONGITUDE  \n",
       "0  18567126        N          Y  45.604756 -122.624335  \n",
       "1  18118897        N          Y  45.522837 -122.733173  \n",
       "2  18454531        N          Y  45.554321 -122.553849  \n",
       "\n",
       "[3 rows x 25 columns]"
      ]
     },
     "execution_count": 5,
     "metadata": {},
     "output_type": "execute_result"
    }
   ],
   "source": [
    "prop_df = pd.read_csv(csv_path)\n",
    "prop_df.head(3)"
   ]
  },
  {
   "cell_type": "code",
   "execution_count": 6,
   "metadata": {},
   "outputs": [],
   "source": [
    "prop_df.drop(columns=['SOLD DATE'],inplace=True)\n",
    "prop_df.drop(columns=['NEXT OPEN HOUSE START TIME'],inplace=True)\n",
    "prop_df.drop(columns=['NEXT OPEN HOUSE END TIME'],inplace=True)\n",
    "prop_df.drop(columns=['FAVORITE'],inplace=True)\n",
    "prop_df.drop(columns=['INTERESTED'],inplace=True)\n"
   ]
  },
  {
   "cell_type": "code",
   "execution_count": 7,
   "metadata": {},
   "outputs": [
    {
     "data": {
      "text/html": [
       "<div>\n",
       "<style scoped>\n",
       "    .dataframe tbody tr th:only-of-type {\n",
       "        vertical-align: middle;\n",
       "    }\n",
       "\n",
       "    .dataframe tbody tr th {\n",
       "        vertical-align: top;\n",
       "    }\n",
       "\n",
       "    .dataframe thead th {\n",
       "        text-align: right;\n",
       "    }\n",
       "</style>\n",
       "<table border=\"1\" class=\"dataframe\">\n",
       "  <thead>\n",
       "    <tr style=\"text-align: right;\">\n",
       "      <th></th>\n",
       "      <th>SALE TYPE</th>\n",
       "      <th>PROPERTY TYPE</th>\n",
       "      <th>CITY</th>\n",
       "      <th>STATE</th>\n",
       "      <th>ZIP</th>\n",
       "      <th>PRICE</th>\n",
       "      <th>BEDS</th>\n",
       "      <th>BATHS</th>\n",
       "      <th>LOCATION</th>\n",
       "      <th>SQUARE FEET</th>\n",
       "      <th>LOT SIZE</th>\n",
       "      <th>YEAR BUILT</th>\n",
       "      <th>DAYS ON MARKET</th>\n",
       "      <th>$/SQUARE FEET</th>\n",
       "      <th>HOA/MONTH</th>\n",
       "      <th>STATUS</th>\n",
       "      <th>SOURCE</th>\n",
       "      <th>MLS#</th>\n",
       "      <th>LATITUDE</th>\n",
       "      <th>LONGITUDE</th>\n",
       "    </tr>\n",
       "  </thead>\n",
       "  <tbody>\n",
       "    <tr>\n",
       "      <th>0</th>\n",
       "      <td>MLS Listing</td>\n",
       "      <td>Single Family Residential</td>\n",
       "      <td>Portland</td>\n",
       "      <td>OR</td>\n",
       "      <td>97211.0</td>\n",
       "      <td>27500.0</td>\n",
       "      <td>0.0</td>\n",
       "      <td>1.0</td>\n",
       "      <td>RODGER'S MARINA</td>\n",
       "      <td>350.0</td>\n",
       "      <td>NaN</td>\n",
       "      <td>NaN</td>\n",
       "      <td>53.0</td>\n",
       "      <td>79.0</td>\n",
       "      <td>NaN</td>\n",
       "      <td>Active</td>\n",
       "      <td>RMLS</td>\n",
       "      <td>18567126</td>\n",
       "      <td>45.604756</td>\n",
       "      <td>-122.624335</td>\n",
       "    </tr>\n",
       "    <tr>\n",
       "      <th>1</th>\n",
       "      <td>MLS Listing</td>\n",
       "      <td>Vacant Land</td>\n",
       "      <td>Portland</td>\n",
       "      <td>OR</td>\n",
       "      <td>97210.0</td>\n",
       "      <td>30000.0</td>\n",
       "      <td>NaN</td>\n",
       "      <td>NaN</td>\n",
       "      <td>Portland West, Raleigh Hills</td>\n",
       "      <td>NaN</td>\n",
       "      <td>10018.0</td>\n",
       "      <td>NaN</td>\n",
       "      <td>10.0</td>\n",
       "      <td>NaN</td>\n",
       "      <td>NaN</td>\n",
       "      <td>Active</td>\n",
       "      <td>RMLS</td>\n",
       "      <td>18118897</td>\n",
       "      <td>45.522837</td>\n",
       "      <td>-122.733173</td>\n",
       "    </tr>\n",
       "    <tr>\n",
       "      <th>2</th>\n",
       "      <td>MLS Listing</td>\n",
       "      <td>Vacant Land</td>\n",
       "      <td>Portland</td>\n",
       "      <td>OR</td>\n",
       "      <td>97220.0</td>\n",
       "      <td>34777.0</td>\n",
       "      <td>NaN</td>\n",
       "      <td>NaN</td>\n",
       "      <td>Portland Northeast</td>\n",
       "      <td>NaN</td>\n",
       "      <td>12196.0</td>\n",
       "      <td>NaN</td>\n",
       "      <td>239.0</td>\n",
       "      <td>NaN</td>\n",
       "      <td>NaN</td>\n",
       "      <td>Active</td>\n",
       "      <td>RMLS</td>\n",
       "      <td>18454531</td>\n",
       "      <td>45.554321</td>\n",
       "      <td>-122.553849</td>\n",
       "    </tr>\n",
       "    <tr>\n",
       "      <th>3</th>\n",
       "      <td>MLS Listing</td>\n",
       "      <td>Mobile/Manufactured Home</td>\n",
       "      <td>Portland</td>\n",
       "      <td>OR</td>\n",
       "      <td>97206.0</td>\n",
       "      <td>35000.0</td>\n",
       "      <td>2.0</td>\n",
       "      <td>1.0</td>\n",
       "      <td>Portland Southeast</td>\n",
       "      <td>800.0</td>\n",
       "      <td>NaN</td>\n",
       "      <td>1981.0</td>\n",
       "      <td>93.0</td>\n",
       "      <td>44.0</td>\n",
       "      <td>NaN</td>\n",
       "      <td>Active</td>\n",
       "      <td>RMLS</td>\n",
       "      <td>18331169</td>\n",
       "      <td>45.475296</td>\n",
       "      <td>-122.586139</td>\n",
       "    </tr>\n",
       "    <tr>\n",
       "      <th>4</th>\n",
       "      <td>MLS Listing</td>\n",
       "      <td>Vacant Land</td>\n",
       "      <td>Portland</td>\n",
       "      <td>OR</td>\n",
       "      <td>97213.0</td>\n",
       "      <td>50000.0</td>\n",
       "      <td>NaN</td>\n",
       "      <td>NaN</td>\n",
       "      <td>Marchmont ADD &amp; RPLT</td>\n",
       "      <td>NaN</td>\n",
       "      <td>2613.0</td>\n",
       "      <td>NaN</td>\n",
       "      <td>20.0</td>\n",
       "      <td>NaN</td>\n",
       "      <td>NaN</td>\n",
       "      <td>Active</td>\n",
       "      <td>RMLS</td>\n",
       "      <td>18388618</td>\n",
       "      <td>45.550021</td>\n",
       "      <td>-122.577701</td>\n",
       "    </tr>\n",
       "  </tbody>\n",
       "</table>\n",
       "</div>"
      ],
      "text/plain": [
       "     SALE TYPE              PROPERTY TYPE      CITY STATE      ZIP    PRICE  \\\n",
       "0  MLS Listing  Single Family Residential  Portland    OR  97211.0  27500.0   \n",
       "1  MLS Listing                Vacant Land  Portland    OR  97210.0  30000.0   \n",
       "2  MLS Listing                Vacant Land  Portland    OR  97220.0  34777.0   \n",
       "3  MLS Listing   Mobile/Manufactured Home  Portland    OR  97206.0  35000.0   \n",
       "4  MLS Listing                Vacant Land  Portland    OR  97213.0  50000.0   \n",
       "\n",
       "   BEDS  BATHS                      LOCATION  SQUARE FEET  LOT SIZE  \\\n",
       "0   0.0    1.0               RODGER'S MARINA        350.0       NaN   \n",
       "1   NaN    NaN  Portland West, Raleigh Hills          NaN   10018.0   \n",
       "2   NaN    NaN            Portland Northeast          NaN   12196.0   \n",
       "3   2.0    1.0            Portland Southeast        800.0       NaN   \n",
       "4   NaN    NaN          Marchmont ADD & RPLT          NaN    2613.0   \n",
       "\n",
       "   YEAR BUILT  DAYS ON MARKET  $/SQUARE FEET  HOA/MONTH  STATUS SOURCE  \\\n",
       "0         NaN            53.0           79.0        NaN  Active   RMLS   \n",
       "1         NaN            10.0            NaN        NaN  Active   RMLS   \n",
       "2         NaN           239.0            NaN        NaN  Active   RMLS   \n",
       "3      1981.0            93.0           44.0        NaN  Active   RMLS   \n",
       "4         NaN            20.0            NaN        NaN  Active   RMLS   \n",
       "\n",
       "       MLS#   LATITUDE   LONGITUDE  \n",
       "0  18567126  45.604756 -122.624335  \n",
       "1  18118897  45.522837 -122.733173  \n",
       "2  18454531  45.554321 -122.553849  \n",
       "3  18331169  45.475296 -122.586139  \n",
       "4  18388618  45.550021 -122.577701  "
      ]
     },
     "execution_count": 7,
     "metadata": {},
     "output_type": "execute_result"
    }
   ],
   "source": [
    "prop_df.head(5)"
   ]
  },
  {
   "cell_type": "code",
   "execution_count": 8,
   "metadata": {},
   "outputs": [
    {
     "data": {
      "text/plain": [
       "pandas.core.frame.DataFrame"
      ]
     },
     "execution_count": 8,
     "metadata": {},
     "output_type": "execute_result"
    }
   ],
   "source": [
    "prop_sdf = pd.DataFrame.spatial.from_xy(prop_df, 'LONGITUDE', 'LATITUDE',\"WGS_1984\")\n",
    "type(prop_sdf)"
   ]
  },
  {
   "cell_type": "code",
   "execution_count": 9,
   "metadata": {},
   "outputs": [
    {
     "data": {
      "text/html": [
       "<div>\n",
       "<style scoped>\n",
       "    .dataframe tbody tr th:only-of-type {\n",
       "        vertical-align: middle;\n",
       "    }\n",
       "\n",
       "    .dataframe tbody tr th {\n",
       "        vertical-align: top;\n",
       "    }\n",
       "\n",
       "    .dataframe thead th {\n",
       "        text-align: right;\n",
       "    }\n",
       "</style>\n",
       "<table border=\"1\" class=\"dataframe\">\n",
       "  <thead>\n",
       "    <tr style=\"text-align: right;\">\n",
       "      <th></th>\n",
       "      <th>SALE TYPE</th>\n",
       "      <th>PROPERTY TYPE</th>\n",
       "      <th>CITY</th>\n",
       "      <th>STATE</th>\n",
       "      <th>ZIP</th>\n",
       "      <th>PRICE</th>\n",
       "      <th>BEDS</th>\n",
       "      <th>BATHS</th>\n",
       "      <th>LOCATION</th>\n",
       "      <th>SQUARE FEET</th>\n",
       "      <th>...</th>\n",
       "      <th>YEAR BUILT</th>\n",
       "      <th>DAYS ON MARKET</th>\n",
       "      <th>$/SQUARE FEET</th>\n",
       "      <th>HOA/MONTH</th>\n",
       "      <th>STATUS</th>\n",
       "      <th>SOURCE</th>\n",
       "      <th>MLS#</th>\n",
       "      <th>LATITUDE</th>\n",
       "      <th>LONGITUDE</th>\n",
       "      <th>SHAPE</th>\n",
       "    </tr>\n",
       "  </thead>\n",
       "  <tbody>\n",
       "    <tr>\n",
       "      <th>0</th>\n",
       "      <td>MLS Listing</td>\n",
       "      <td>Single Family Residential</td>\n",
       "      <td>Portland</td>\n",
       "      <td>OR</td>\n",
       "      <td>97211.0</td>\n",
       "      <td>27500.0</td>\n",
       "      <td>0.0</td>\n",
       "      <td>1.0</td>\n",
       "      <td>RODGER'S MARINA</td>\n",
       "      <td>350.0</td>\n",
       "      <td>...</td>\n",
       "      <td>NaN</td>\n",
       "      <td>53.0</td>\n",
       "      <td>79.0</td>\n",
       "      <td>NaN</td>\n",
       "      <td>Active</td>\n",
       "      <td>RMLS</td>\n",
       "      <td>18567126</td>\n",
       "      <td>45.604756</td>\n",
       "      <td>-122.624335</td>\n",
       "      <td>{\"x\": -122.62433473960267, \"y\": 45.60475636039...</td>\n",
       "    </tr>\n",
       "    <tr>\n",
       "      <th>1</th>\n",
       "      <td>MLS Listing</td>\n",
       "      <td>Vacant Land</td>\n",
       "      <td>Portland</td>\n",
       "      <td>OR</td>\n",
       "      <td>97210.0</td>\n",
       "      <td>30000.0</td>\n",
       "      <td>NaN</td>\n",
       "      <td>NaN</td>\n",
       "      <td>Portland West, Raleigh Hills</td>\n",
       "      <td>NaN</td>\n",
       "      <td>...</td>\n",
       "      <td>NaN</td>\n",
       "      <td>10.0</td>\n",
       "      <td>NaN</td>\n",
       "      <td>NaN</td>\n",
       "      <td>Active</td>\n",
       "      <td>RMLS</td>\n",
       "      <td>18118897</td>\n",
       "      <td>45.522837</td>\n",
       "      <td>-122.733173</td>\n",
       "      <td>{\"x\": -122.73317348721564, \"y\": 45.52283651278...</td>\n",
       "    </tr>\n",
       "    <tr>\n",
       "      <th>2</th>\n",
       "      <td>MLS Listing</td>\n",
       "      <td>Vacant Land</td>\n",
       "      <td>Portland</td>\n",
       "      <td>OR</td>\n",
       "      <td>97220.0</td>\n",
       "      <td>34777.0</td>\n",
       "      <td>NaN</td>\n",
       "      <td>NaN</td>\n",
       "      <td>Portland Northeast</td>\n",
       "      <td>NaN</td>\n",
       "      <td>...</td>\n",
       "      <td>NaN</td>\n",
       "      <td>239.0</td>\n",
       "      <td>NaN</td>\n",
       "      <td>NaN</td>\n",
       "      <td>Active</td>\n",
       "      <td>RMLS</td>\n",
       "      <td>18454531</td>\n",
       "      <td>45.554321</td>\n",
       "      <td>-122.553849</td>\n",
       "      <td>{\"x\": -122.55384907899088, \"y\": 45.55432092100...</td>\n",
       "    </tr>\n",
       "    <tr>\n",
       "      <th>3</th>\n",
       "      <td>MLS Listing</td>\n",
       "      <td>Mobile/Manufactured Home</td>\n",
       "      <td>Portland</td>\n",
       "      <td>OR</td>\n",
       "      <td>97206.0</td>\n",
       "      <td>35000.0</td>\n",
       "      <td>2.0</td>\n",
       "      <td>1.0</td>\n",
       "      <td>Portland Southeast</td>\n",
       "      <td>800.0</td>\n",
       "      <td>...</td>\n",
       "      <td>1981.0</td>\n",
       "      <td>93.0</td>\n",
       "      <td>44.0</td>\n",
       "      <td>NaN</td>\n",
       "      <td>Active</td>\n",
       "      <td>RMLS</td>\n",
       "      <td>18331169</td>\n",
       "      <td>45.475296</td>\n",
       "      <td>-122.586139</td>\n",
       "      <td>{\"x\": -122.58613896196422, \"y\": 45.47529563803...</td>\n",
       "    </tr>\n",
       "    <tr>\n",
       "      <th>4</th>\n",
       "      <td>MLS Listing</td>\n",
       "      <td>Vacant Land</td>\n",
       "      <td>Portland</td>\n",
       "      <td>OR</td>\n",
       "      <td>97213.0</td>\n",
       "      <td>50000.0</td>\n",
       "      <td>NaN</td>\n",
       "      <td>NaN</td>\n",
       "      <td>Marchmont ADD &amp; RPLT</td>\n",
       "      <td>NaN</td>\n",
       "      <td>...</td>\n",
       "      <td>NaN</td>\n",
       "      <td>20.0</td>\n",
       "      <td>NaN</td>\n",
       "      <td>NaN</td>\n",
       "      <td>Active</td>\n",
       "      <td>RMLS</td>\n",
       "      <td>18388618</td>\n",
       "      <td>45.550021</td>\n",
       "      <td>-122.577701</td>\n",
       "      <td>{\"x\": -122.5777005888162, \"y\": 45.550021411183...</td>\n",
       "    </tr>\n",
       "  </tbody>\n",
       "</table>\n",
       "<p>5 rows × 21 columns</p>\n",
       "</div>"
      ],
      "text/plain": [
       "     SALE TYPE              PROPERTY TYPE      CITY STATE      ZIP    PRICE  \\\n",
       "0  MLS Listing  Single Family Residential  Portland    OR  97211.0  27500.0   \n",
       "1  MLS Listing                Vacant Land  Portland    OR  97210.0  30000.0   \n",
       "2  MLS Listing                Vacant Land  Portland    OR  97220.0  34777.0   \n",
       "3  MLS Listing   Mobile/Manufactured Home  Portland    OR  97206.0  35000.0   \n",
       "4  MLS Listing                Vacant Land  Portland    OR  97213.0  50000.0   \n",
       "\n",
       "   BEDS  BATHS                      LOCATION  SQUARE FEET  \\\n",
       "0   0.0    1.0               RODGER'S MARINA        350.0   \n",
       "1   NaN    NaN  Portland West, Raleigh Hills          NaN   \n",
       "2   NaN    NaN            Portland Northeast          NaN   \n",
       "3   2.0    1.0            Portland Southeast        800.0   \n",
       "4   NaN    NaN          Marchmont ADD & RPLT          NaN   \n",
       "\n",
       "                         ...                          YEAR BUILT  \\\n",
       "0                        ...                                 NaN   \n",
       "1                        ...                                 NaN   \n",
       "2                        ...                                 NaN   \n",
       "3                        ...                              1981.0   \n",
       "4                        ...                                 NaN   \n",
       "\n",
       "   DAYS ON MARKET  $/SQUARE FEET  HOA/MONTH  STATUS SOURCE      MLS#  \\\n",
       "0            53.0           79.0        NaN  Active   RMLS  18567126   \n",
       "1            10.0            NaN        NaN  Active   RMLS  18118897   \n",
       "2           239.0            NaN        NaN  Active   RMLS  18454531   \n",
       "3            93.0           44.0        NaN  Active   RMLS  18331169   \n",
       "4            20.0            NaN        NaN  Active   RMLS  18388618   \n",
       "\n",
       "    LATITUDE   LONGITUDE                                              SHAPE  \n",
       "0  45.604756 -122.624335  {\"x\": -122.62433473960267, \"y\": 45.60475636039...  \n",
       "1  45.522837 -122.733173  {\"x\": -122.73317348721564, \"y\": 45.52283651278...  \n",
       "2  45.554321 -122.553849  {\"x\": -122.55384907899088, \"y\": 45.55432092100...  \n",
       "3  45.475296 -122.586139  {\"x\": -122.58613896196422, \"y\": 45.47529563803...  \n",
       "4  45.550021 -122.577701  {\"x\": -122.5777005888162, \"y\": 45.550021411183...  \n",
       "\n",
       "[5 rows x 21 columns]"
      ]
     },
     "execution_count": 9,
     "metadata": {},
     "output_type": "execute_result"
    }
   ],
   "source": [
    "prop_sdf.head(5)"
   ]
  },
  {
   "cell_type": "code",
   "execution_count": 10,
   "metadata": {},
   "outputs": [
    {
     "data": {
      "application/vnd.jupyter.widget-view+json": {
       "model_id": "9a67b4cb680c4b7e8d8ad41cb154e361",
       "version_major": 2,
       "version_minor": 0
      },
      "text/plain": [
       "MapView(layout=Layout(height='400px', width='100%'))"
      ]
     },
     "metadata": {},
     "output_type": "display_data"
    },
    {
     "data": {
      "text/html": [
       "<div class=\"map-static-img-preview-067b1c5e-2bcb-4146-8cc4-b4d91eb81217\"><img src=\"\"></img></div>"
      ],
      "text/plain": [
       "<IPython.core.display.HTML object>"
      ]
     },
     "metadata": {},
     "output_type": "display_data"
    }
   ],
   "source": [
    "pdx_map = GIS().map('PORTLAND, OR')\n",
    "#pdx_map.basemap='streets'\n",
    "pdx_map"
   ]
  },
  {
   "cell_type": "code",
   "execution_count": 11,
   "metadata": {},
   "outputs": [
    {
     "name": "stderr",
     "output_type": "stream",
     "text": [
      "C:\\Anaconda3\\lib\\site-packages\\numpy\\core\\_methods.py:32: RuntimeWarning: invalid value encountered in reduce\n",
      "  return umr_minimum(a, axis, None, out, keepdims, initial)\n",
      "C:\\Anaconda3\\lib\\site-packages\\numpy\\core\\_methods.py:28: RuntimeWarning: invalid value encountered in reduce\n",
      "  return umr_maximum(a, axis, None, out, keepdims, initial)\n"
     ]
    },
    {
     "data": {
      "text/plain": [
       "True"
      ]
     },
     "execution_count": 11,
     "metadata": {},
     "output_type": "execute_result"
    }
   ],
   "source": [
    "prop_sdf.spatial.plot(map_widget=pdx_map)"
   ]
  },
  {
   "cell_type": "code",
   "execution_count": 12,
   "metadata": {
    "scrolled": true
   },
   "outputs": [
    {
     "name": "stdout",
     "output_type": "stream",
     "text": [
      "<class 'pandas.core.frame.DataFrame'>\n",
      "RangeIndex: 3716 entries, 0 to 3715\n",
      "Data columns (total 21 columns):\n",
      "SALE TYPE         3716 non-null object\n",
      "PROPERTY TYPE     3715 non-null object\n",
      "CITY              3715 non-null object\n",
      "STATE             3715 non-null object\n",
      "ZIP               3715 non-null float64\n",
      "PRICE             3714 non-null float64\n",
      "BEDS              3486 non-null float64\n",
      "BATHS             3487 non-null float64\n",
      "LOCATION          3715 non-null object\n",
      "SQUARE FEET       3470 non-null float64\n",
      "LOT SIZE          2539 non-null float64\n",
      "YEAR BUILT        3399 non-null float64\n",
      "DAYS ON MARKET    3634 non-null float64\n",
      "$/SQUARE FEET     3469 non-null float64\n",
      "HOA/MONTH         1178 non-null float64\n",
      "STATUS            3715 non-null object\n",
      "SOURCE            3715 non-null object\n",
      "MLS#              3715 non-null object\n",
      "LATITUDE          3715 non-null float64\n",
      "LONGITUDE         3715 non-null float64\n",
      "SHAPE             3716 non-null geometry\n",
      "dtypes: float64(12), geometry(1), object(8)\n",
      "memory usage: 609.7+ KB\n"
     ]
    }
   ],
   "source": [
    "prop_sdf.info()\n"
   ]
  },
  {
   "cell_type": "markdown",
   "metadata": {},
   "source": [
    "# Painting a map of colombia, and of the park house (Google maps coordinates)"
   ]
  },
  {
   "cell_type": "code",
   "execution_count": 13,
   "metadata": {
    "scrolled": true
   },
   "outputs": [
    {
     "data": {
      "application/vnd.jupyter.widget-view+json": {
       "model_id": "e633338b5e54426187f1f7a223b6c3fd",
       "version_major": 2,
       "version_minor": 0
      },
      "text/plain": [
       "MapView(layout=Layout(height='400px', width='100%'))"
      ]
     },
     "metadata": {},
     "output_type": "display_data"
    },
    {
     "data": {
      "text/html": [
       "<div class=\"map-static-img-preview-fd0a0f0d-fee5-4c91-8daf-87b0f2261631\"><img src=\"\"></img></div>"
      ],
      "text/plain": [
       "<IPython.core.display.HTML object>"
      ]
     },
     "metadata": {},
     "output_type": "display_data"
    }
   ],
   "source": [
    "m2 = GIS().map('Bogotá, Colombia')\n",
    "m2.basemap='streets'\n",
    "m2"
   ]
  },
  {
   "cell_type": "code",
   "execution_count": 19,
   "metadata": {},
   "outputs": [
    {
     "data": {
      "text/plain": [
       "[('Mi casa', 4.740548, -74.046539)]"
      ]
     },
     "execution_count": 19,
     "metadata": {},
     "output_type": "execute_result"
    }
   ],
   "source": [
    "#house_df = []\n",
    "records = []\n",
    "desc = \"Mi casa\"\n",
    "lat = 4.740548 \n",
    "long = -74.046539\n",
    "records.append((desc,lat,long))\n",
    "records\n",
    "    "
   ]
  },
  {
   "cell_type": "code",
   "execution_count": 20,
   "metadata": {},
   "outputs": [
    {
     "data": {
      "text/html": [
       "<div>\n",
       "<style scoped>\n",
       "    .dataframe tbody tr th:only-of-type {\n",
       "        vertical-align: middle;\n",
       "    }\n",
       "\n",
       "    .dataframe tbody tr th {\n",
       "        vertical-align: top;\n",
       "    }\n",
       "\n",
       "    .dataframe thead th {\n",
       "        text-align: right;\n",
       "    }\n",
       "</style>\n",
       "<table border=\"1\" class=\"dataframe\">\n",
       "  <thead>\n",
       "    <tr style=\"text-align: right;\">\n",
       "      <th></th>\n",
       "      <th>descripcion</th>\n",
       "      <th>latutud</th>\n",
       "      <th>longitud</th>\n",
       "    </tr>\n",
       "  </thead>\n",
       "  <tbody>\n",
       "    <tr>\n",
       "      <th>0</th>\n",
       "      <td>Mi casa</td>\n",
       "      <td>4.740548</td>\n",
       "      <td>-74.046539</td>\n",
       "    </tr>\n",
       "  </tbody>\n",
       "</table>\n",
       "</div>"
      ],
      "text/plain": [
       "  descripcion   latutud   longitud\n",
       "0     Mi casa  4.740548 -74.046539"
      ]
     },
     "execution_count": 20,
     "metadata": {},
     "output_type": "execute_result"
    }
   ],
   "source": [
    "import pandas as pd\n",
    "house_df =pd.DataFrame(records, columns=['descripcion', 'latutud', 'longitud'])\n",
    "house_df.head()"
   ]
  },
  {
   "cell_type": "code",
   "execution_count": 24,
   "metadata": {},
   "outputs": [
    {
     "data": {
      "text/plain": [
       "pandas.core.frame.DataFrame"
      ]
     },
     "execution_count": 24,
     "metadata": {},
     "output_type": "execute_result"
    }
   ],
   "source": [
    "house_sdf = pd.DataFrame.spatial.from_xy(house_df, 'longitud', 'latutud')\n",
    "type(prop_sdf)"
   ]
  },
  {
   "cell_type": "code",
   "execution_count": 17,
   "metadata": {},
   "outputs": [
    {
     "data": {
      "text/html": [
       "<div>\n",
       "<style scoped>\n",
       "    .dataframe tbody tr th:only-of-type {\n",
       "        vertical-align: middle;\n",
       "    }\n",
       "\n",
       "    .dataframe tbody tr th {\n",
       "        vertical-align: top;\n",
       "    }\n",
       "\n",
       "    .dataframe thead th {\n",
       "        text-align: right;\n",
       "    }\n",
       "</style>\n",
       "<table border=\"1\" class=\"dataframe\">\n",
       "  <thead>\n",
       "    <tr style=\"text-align: right;\">\n",
       "      <th></th>\n",
       "      <th>descripcion</th>\n",
       "      <th>longitud</th>\n",
       "      <th>latitud</th>\n",
       "      <th>SHAPE</th>\n",
       "    </tr>\n",
       "  </thead>\n",
       "  <tbody>\n",
       "    <tr>\n",
       "      <th>0</th>\n",
       "      <td>Mi casa</td>\n",
       "      <td>4.740548</td>\n",
       "      <td>-74.046539</td>\n",
       "      <td>{\"x\": 4.740548, \"y\": -74.046539, \"spatialRefer...</td>\n",
       "    </tr>\n",
       "  </tbody>\n",
       "</table>\n",
       "</div>"
      ],
      "text/plain": [
       "  descripcion  longitud    latitud  \\\n",
       "0     Mi casa  4.740548 -74.046539   \n",
       "\n",
       "                                               SHAPE  \n",
       "0  {\"x\": 4.740548, \"y\": -74.046539, \"spatialRefer...  "
      ]
     },
     "execution_count": 17,
     "metadata": {},
     "output_type": "execute_result"
    }
   ],
   "source": [
    "house_sdf.head()"
   ]
  },
  {
   "cell_type": "code",
   "execution_count": 25,
   "metadata": {},
   "outputs": [
    {
     "data": {
      "text/plain": [
       "True"
      ]
     },
     "execution_count": 25,
     "metadata": {},
     "output_type": "execute_result"
    }
   ],
   "source": [
    "house_sdf.spatial.plot(map_widget= m2)"
   ]
  },
  {
   "cell_type": "markdown",
   "metadata": {},
   "source": [
    "# Cool things I've learnt today:\n",
    "\n",
    "* Google maps uses the same coordinate system as Esri's default, so no need to worry about it.\n",
    "\n",
    "* The spatial data frame creator receives the geo data as follows: pd.DataFrame(records, columns=['descripcion', 'latitud', 'longitud'])\n",
    "\n",
    "* The data from google maps comes first latitud, then longitud. Ex: The park where i used to take my dog out is at <4.740548, -74.046539>.\n",
    "\n",
    "* Geographical plotting differs from the normal way of plotting in matematics in the sens that the y parameter is plotted first, then the x. This is for exemple why in degrees coordinates as represented as: 4°44'26.0\"NORTH 74°02'47.5\"WEST\n",
    "\n",
    "-> I think i Know enough now to do an study of the best times to go from home to work in car at different times. Maybe\n"
   ]
  },
  {
   "cell_type": "code",
   "execution_count": null,
   "metadata": {},
   "outputs": [],
   "source": []
  }
 ],
 "metadata": {
  "kernelspec": {
   "display_name": "Python 3",
   "language": "python",
   "name": "python3"
  },
  "language_info": {
   "codemirror_mode": {
    "name": "ipython",
    "version": 3
   },
   "file_extension": ".py",
   "mimetype": "text/x-python",
   "name": "python",
   "nbconvert_exporter": "python",
   "pygments_lexer": "ipython3",
   "version": "3.7.1"
  }
 },
 "nbformat": 4,
 "nbformat_minor": 2
}
